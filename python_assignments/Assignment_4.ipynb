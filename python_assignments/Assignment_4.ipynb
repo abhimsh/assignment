{
 "cells": [
  {
   "cell_type": "markdown",
   "id": "328f545b-d611-4485-8e15-8823953dd0f2",
   "metadata": {},
   "source": [
    "1. What exactly is []?\\\n",
    "Ans:\\\n",
    "It signifies an empty list"
   ]
  },
  {
   "cell_type": "markdown",
   "id": "238f6b9e-ee8f-426e-81bd-3d54522a89c8",
   "metadata": {},
   "source": [
    "2. In a list of values stored in a variable called spam, how would you assign the value 'hello' as the\n",
    "third value? (Assume [2, 4, 6, 8, 10] are in spam.)\\\n",
    "Ans:\\\n",
    "spam[2] = \"Hello\""
   ]
  },
  {
   "cell_type": "markdown",
   "id": "2a0b65b5-4a1a-4b0b-b003-4269c81230fb",
   "metadata": {},
   "source": [
    "3. What is the value of spam[int(int('3' * 2) / 11)]?\n",
    "Ans:\\\n",
    "'d'"
   ]
  },
  {
   "cell_type": "markdown",
   "id": "5566cfb4-d98f-411f-85e0-5180d41eb1f8",
   "metadata": {},
   "source": [
    "4. What is the value of spam[-1]?\\\n",
    "Ans:\n",
    "'d'"
   ]
  },
  {
   "cell_type": "markdown",
   "id": "ed98ffec-5259-4d32-a1c0-57149cc43f77",
   "metadata": {},
   "source": [
    "5. What is the value of spam[:2]?\\\n",
    "Ans:\\\n",
    "[\"a\", \"b\"]"
   ]
  },
  {
   "cell_type": "markdown",
   "id": "47fe5af1-65a4-4d8c-9f6b-3811f235ef18",
   "metadata": {},
   "source": [
    "6. What is the value of bacon.index('cat')?\\\n",
    "Ans:\\\n",
    "1"
   ]
  },
  {
   "cell_type": "markdown",
   "id": "2b01f393-c16d-4274-acba-7ac2c59d2018",
   "metadata": {},
   "source": [
    "7. How does bacon.append(99) change the look of the list value in bacon?\\\n",
    "Ans:\\\n",
    "beacon will be [3.14, 'cat,' 11, 'cat,' True, 99]"
   ]
  },
  {
   "cell_type": "markdown",
   "id": "3b638454-972f-458d-9739-a49377045571",
   "metadata": {},
   "source": [
    "8. How does bacon.remove('cat') change the look of the list in bacon?\\\n",
    "Ans:\\\n",
    "beacon will be [3.14, 11, 'cat,' True, 99]"
   ]
  },
  {
   "cell_type": "markdown",
   "id": "7b9158dc-33df-41ea-965f-43e19b7703f4",
   "metadata": {},
   "source": [
    "9. What are the list concatenation and list replication operators?\\\n",
    "Ans:\\\n",
    "List concatenation is used to concatenate 2 or more lists to form a single list\\\n",
    "example:"
   ]
  },
  {
   "cell_type": "code",
   "execution_count": 5,
   "id": "c76d3d2f-1bbb-4abc-b78e-dfbb346d3034",
   "metadata": {},
   "outputs": [
    {
     "data": {
      "text/plain": [
       "[1, 2, 3, 4, 4, 5, 6, 7]"
      ]
     },
     "execution_count": 5,
     "metadata": {},
     "output_type": "execute_result"
    }
   ],
   "source": [
    "l1 = [1,2,3,4]\n",
    "l2 = [4,5,6,7]\n",
    "l1 + l2 # list concatenation"
   ]
  },
  {
   "cell_type": "markdown",
   "id": "c33e4c1e-171e-46d2-abc4-5d92b1617521",
   "metadata": {},
   "source": [
    "List replication is used to copy the contents of the single whole list repeatedly for a certain number of times to form a single list\\\n",
    "example:"
   ]
  },
  {
   "cell_type": "code",
   "execution_count": 3,
   "id": "1ee090ca-2889-4cd9-86e7-cccca7f8b5e2",
   "metadata": {},
   "outputs": [
    {
     "data": {
      "text/plain": [
       "[1, 2, 3, 4, 5, 1, 2, 3, 4, 5, 1, 2, 3, 4, 5, 1, 2, 3, 4, 5, 1, 2, 3, 4, 5]"
      ]
     },
     "execution_count": 3,
     "metadata": {},
     "output_type": "execute_result"
    }
   ],
   "source": [
    "l1 = [1,2,3,4,5] \n",
    "l1 * 5 # here list 1 contents will eb copied 5 times to form a new list"
   ]
  },
  {
   "cell_type": "markdown",
   "id": "0cfad923-fda6-4581-91b6-29fb824661eb",
   "metadata": {},
   "source": [
    "10. What is difference between the list methods append() and insert()?\\\n",
    "Ans:\\\n",
    "list.append(value) is used to insert the given value always at the end of the list,\\\n",
    "list.insert(value, index) is used to insert the given value at a particular index,may be at begining/middle/end of the list"
   ]
  },
  {
   "cell_type": "markdown",
   "id": "27831668-803a-4391-a261-0eb2ce41e158",
   "metadata": {},
   "source": [
    "11. What are the two methods for removing items from a list?\\\n",
    "Ans:\\\n",
    "If the value of the items to be removed from the list is known, then use list.remove(value)\\\n",
    "if the index of the items to be removed from the list is known, then use list.pop(index)"
   ]
  },
  {
   "cell_type": "markdown",
   "id": "cc4036d4-5210-460f-b889-8331da09871f",
   "metadata": {},
   "source": [
    "12. Describe how list values and string values are identical.\\\n",
    "Ans:\\\n",
    "List values and string values are identical in the sense that they are both iterable,\n",
    "we can access the values inside the list/string using indexing"
   ]
  },
  {
   "cell_type": "markdown",
   "id": "6c6f643a-f9c2-4bf1-844e-a995153c1bae",
   "metadata": {},
   "source": [
    "13. What's the difference between tuples and lists?\\\n",
    "Ans:\\\n",
    "list is mutable data type, which means that we can modify the contents of the list after its defined/created\\\n",
    "tuple is a immutable data type, which means that we cannot modify the list once its created."
   ]
  },
  {
   "cell_type": "markdown",
   "id": "6cbff889-ff09-4aa3-8e69-c5ea8e161128",
   "metadata": {},
   "source": [
    "14. How do you type a tuple value that only contains the integer 42?\\\n",
    "Ans:\\\n",
    "value = (42,)"
   ]
  },
  {
   "cell_type": "markdown",
   "id": "5773e41e-a58c-48db-80f7-d5caa8bc6e8a",
   "metadata": {},
   "source": [
    "15. How do you get a list value&#39;s tuple form? How do you get a tuple value&#39;s list form?\\\n",
    "Ans:\\\n",
    "using tuple() will convert the list to tuple data type, by using list() we can convert from tuple to list data type\\\n",
    "example:"
   ]
  },
  {
   "cell_type": "code",
   "execution_count": 4,
   "id": "05615cba-2b6f-489d-af7a-7b1a05046e9d",
   "metadata": {},
   "outputs": [],
   "source": [
    "l = [1,2,3,4,5,6]\n",
    "t = tuple(l) # converting list to tuple\n",
    "list_again = list(t) # converting the tuple to list"
   ]
  },
  {
   "cell_type": "markdown",
   "id": "ee8f9aaf-6baf-4bf2-a58a-d47d64be5293",
   "metadata": {},
   "source": [
    "16. Variables that \"contain\" list values are not necessarily lists themselves. Instead, what do they contain?\\\n",
    "Ans:\\\n",
    "the list variables hold the reference to the list values, not the list values directly"
   ]
  },
  {
   "cell_type": "markdown",
   "id": "80c74dcd-1805-4f51-9ee3-b62edcece309",
   "metadata": {},
   "source": [
    "17. How do you distinguish between copy.copy() and copy.deepcopy()?\\\n",
    "Ans:\\\n",
    "copy.copy() is used to perform shallow copies, which means that the reference of the values are copied to new variable, so when the old variable is changed the values inside new copied variable will also be modified automatically\\\n",
    "copy.deepcopy() is used to perform deep copies, which means that the actual values are copied to new variable, so when the old variable is changed the values inside new copied variable will be unaffected."
   ]
  }
 ],
 "metadata": {
  "kernelspec": {
   "display_name": "Python 3 (ipykernel)",
   "language": "python",
   "name": "python3"
  },
  "language_info": {
   "codemirror_mode": {
    "name": "ipython",
    "version": 3
   },
   "file_extension": ".py",
   "mimetype": "text/x-python",
   "name": "python",
   "nbconvert_exporter": "python",
   "pygments_lexer": "ipython3",
   "version": "3.9.12"
  }
 },
 "nbformat": 4,
 "nbformat_minor": 5
}
