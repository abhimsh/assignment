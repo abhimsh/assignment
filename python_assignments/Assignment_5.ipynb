{
 "cells": [
  {
   "cell_type": "markdown",
   "id": "48ab5c9b-0013-40a6-b1fd-a22c35e1b0c2",
   "metadata": {},
   "source": [
    "1. What does an empty dictionary's code look like?\\\n",
    "Ans:\\\n",
    "dict_ = {}"
   ]
  },
  {
   "cell_type": "markdown",
   "id": "665a1b21-e531-466b-96d9-9864494800b3",
   "metadata": {},
   "source": [
    "2. What is the value of a dictionary value with the key 'foo' and the value 42?\\\n",
    "Ans:\\\n",
    "dict_ = {}\\\n",
    "dict_['foo'] = 42"
   ]
  },
  {
   "cell_type": "markdown",
   "id": "2aca49bb-789d-403d-bc76-78b42dd5331c",
   "metadata": {},
   "source": [
    "3. What is the most significant distinction between a dictionary and a list?\\\n",
    "Ans:\\\n",
    "List is ordered collection of items, dictionary is unordered collection of items\\\n",
    "In list we access the value using the index, but in dictionary we access the value using the key"
   ]
  },
  {
   "cell_type": "markdown",
   "id": "a399b034-35e6-4843-8d37-01357ff35a12",
   "metadata": {},
   "source": [
    "4. What happens if you try to access spam['foo'] if spam is {'bar': 100}?\\\n",
    "Ans:\\\n",
    "It will riase a KeyError as the key-['foo'] is not present in the dictionary"
   ]
  },
  {
   "cell_type": "markdown",
   "id": "a9cd724f-484f-4b60-bc28-5dfb65595bcc",
   "metadata": {},
   "source": [
    "5. If a dictionary is stored in spam, what is the difference between the expressions 'cat' in spam and 'cat' in spam.keys()?\\\n",
    "Ans:\n",
    "In principle both are same\\\n",
    "'cat' in spam --> by default python will check the 'cat' item in dictionary keys\\\n",
    "'cat' in spam.keys() --> here we are explicity searching the 'cat' in dictionary keys\\\n",
    "example:"
   ]
  },
  {
   "cell_type": "code",
   "execution_count": 1,
   "id": "b79bcc59-7363-4d54-afea-e6a57aea1d5c",
   "metadata": {},
   "outputs": [
    {
     "name": "stdout",
     "output_type": "stream",
     "text": [
      "True\n",
      "True\n"
     ]
    }
   ],
   "source": [
    "d = {\"1\":1, \"2\":2}\n",
    "print(\"1\" in d)\n",
    "print(\"1\" in d.keys())"
   ]
  },
  {
   "cell_type": "markdown",
   "id": "ea637236-d457-4afe-9464-50f2f0663be0",
   "metadata": {},
   "source": [
    "6. If a dictionary is stored in spam, what is the difference between the expressions 'cat' in spam and 'cat' in spam.values()?\\\n",
    "Ans:\\\n",
    "'cat' in spam --> here we are searching for the \"cat\" in the dictionary keys\\\n",
    "'cat' in spam.values() --> here we are searching for the \"cat\" in the dictionary values"
   ]
  },
  {
   "cell_type": "markdown",
   "id": "2109a657-050d-43a1-a80e-954f099b975b",
   "metadata": {},
   "source": [
    "7. What is a shortcut for the following code?\n",
    "if 'color' not in spam:\\\n",
    "spam['color'] = 'black'\\\n",
    "Ans:\\\n",
    "spam.setdefault(\"color\", \"Black\")"
   ]
  },
  {
   "cell_type": "markdown",
   "id": "d8e75624-2eb4-43d4-9118-a030aad6d6f8",
   "metadata": {},
   "source": [
    "8. How do you \"pretty print\" dictionary values using which module and function?\\\n",
    "Ans:\\\n",
    "we can use pprint function from pprint module to display dictionary key value pair in line by line.\\\n",
    "example:"
   ]
  },
  {
   "cell_type": "code",
   "execution_count": 4,
   "id": "3d793629-30c4-4542-b78a-2dbe69f16226",
   "metadata": {},
   "outputs": [
    {
     "name": "stdout",
     "output_type": "stream",
     "text": [
      "{'1': 12, '2': 22, '3': 33, '4': 44}\n"
     ]
    }
   ],
   "source": [
    "from pprint import pprint\n",
    "dict_values = {\"1\" : 12, \"2\" : 22, \"3\": 33, \"4\":44}\n",
    "pprint(dict_values)"
   ]
  }
 ],
 "metadata": {
  "kernelspec": {
   "display_name": "Python 3 (ipykernel)",
   "language": "python",
   "name": "python3"
  },
  "language_info": {
   "codemirror_mode": {
    "name": "ipython",
    "version": 3
   },
   "file_extension": ".py",
   "mimetype": "text/x-python",
   "name": "python",
   "nbconvert_exporter": "python",
   "pygments_lexer": "ipython3",
   "version": "3.9.12"
  }
 },
 "nbformat": 4,
 "nbformat_minor": 5
}
