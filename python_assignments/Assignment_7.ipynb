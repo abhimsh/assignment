{
 "cells": [
  {
   "cell_type": "markdown",
   "id": "502eaa30-e8d4-40cc-9d0a-db5b2f61a4fe",
   "metadata": {},
   "source": [
    "1. Create two int type variables, apply addition, subtraction, division and multiplications and store the results in variables. Then print the data in the following format by calling the variables:\\\n",
    "First variable is __ & second variable is __.\\\n",
    "Addition: __ + __ = __\\\n",
    "Subtraction: __ - __ = __\\\n",
    "Multiplication: __ * __ = __\\\n",
    "Division: __ / __ = __\\\n",
    "Ans:"
   ]
  },
  {
   "cell_type": "code",
   "execution_count": 1,
   "id": "781001b9-969e-4320-9df4-31b2adc7f122",
   "metadata": {},
   "outputs": [
    {
     "name": "stdout",
     "output_type": "stream",
     "text": [
      "First variable is 10 & second variable is 15.\n",
      "Addition: 10 + 15 = 25\n",
      "Subtraction: 10 - 15 = -5\n",
      "Multiplication: 10 * 15 = 150\n",
      "Division: 10 / 15 = 0.6666666666666666\n"
     ]
    }
   ],
   "source": [
    "a = 10\n",
    "b = 15\n",
    "\n",
    "print(f\"First variable is {a} & second variable is {b}.\")\n",
    "print(f\"Addition: {a} + {b} = {a + b}\")\n",
    "print(f\"Subtraction: {a} - {b} = {a - b}\")\n",
    "print(f\"Multiplication: {a} * {b} = {a * b}\")\n",
    "print(f\"Division: {a} / {b} = {a / b}\")"
   ]
  },
  {
   "cell_type": "markdown",
   "id": "b0754b5d-1b6b-447e-97c0-71a3dc3c5ffb",
   "metadata": {},
   "source": [
    "2. What is the difference between the following operators:\\\n",
    "(i) ‘/’ & ‘//’\\\n",
    "(ii) ‘**’ & ‘^’\\\n",
    "Ans:\\\n",
    "(i)\n",
    "/ is the division operator which provides output as a float\\\n",
    "// is a integer division operator which provides output as integer\\\n",
    "example:"
   ]
  },
  {
   "cell_type": "code",
   "execution_count": 2,
   "id": "c152c60f-87e0-4be8-ac64-5c49c9074a7a",
   "metadata": {},
   "outputs": [
    {
     "name": "stdout",
     "output_type": "stream",
     "text": [
      "10 / 3 = 3.3333333333333335\n",
      "10 // 3 = 3\n"
     ]
    }
   ],
   "source": [
    "a = 10\n",
    "b = 3\n",
    "print(f\"{a} / {b} = {a/b}\")\n",
    "print(f\"{a} // {b} = {a//b}\")"
   ]
  },
  {
   "cell_type": "markdown",
   "id": "a99f4aaa-5966-4f8c-a68e-dcc917be1740",
   "metadata": {},
   "source": [
    "(ii)\\\n",
    "** will provide a power of a particular number\\\n",
    "example: x**y is x to the power of y OR  y times x\\\n",
    "\\\n",
    "^ is a bitwise XOR operator which works as per below truth table:\\\n",
    "A | B | A^B\\\n",
    "0 | 0 | 0\\\n",
    "0 | 1 | 1\\\n",
    "1 | 0 | 1\\\n",
    "1 | 1 | 0\\\n",
    "example:\\\n",
    "8^3 = 11\\\n",
    "8  -> 0000 1000\\\n",
    "3  -> 0000 0011\\\n",
    "11 -> 0000 1011\\\n",
    "Here each bit of 8 and 3 are compared and performed XOR operation and resultant integer value is provided"
   ]
  },
  {
   "cell_type": "code",
   "execution_count": 3,
   "id": "b29c35aa-f088-4602-b180-f13c4899e513",
   "metadata": {},
   "outputs": [
    {
     "name": "stdout",
     "output_type": "stream",
     "text": [
      "8 ^ 3 = 11\n"
     ]
    }
   ],
   "source": [
    "a = 8\n",
    "b = 3\n",
    "print(f\"{a} ^ {b} = {a ^ b}\")"
   ]
  },
  {
   "cell_type": "markdown",
   "id": "04c5b3e6-983d-4102-b51e-59402301c054",
   "metadata": {},
   "source": [
    "3. List the logical operators.\\\n",
    "Ans:\\\n",
    "and\\\n",
    "or\\\n",
    "not"
   ]
  },
  {
   "cell_type": "markdown",
   "id": "3ad92298-1c23-44d4-9a44-cafd0ac92616",
   "metadata": {},
   "source": [
    "4. Explain right shift operator and left shift operator with examples.\\\n",
    "Ans:\\\n",
    "right shift operator\\\n",
    "This will convert the integer variable into binary representation and shift all the bits of the integer to right by specified number of times,\\\n",
    "In principle one right shift of a number is similar to dividing the number by 2\\\n",
    "8 >> 1 = 4\\\n",
    "\\\n",
    "left shift operator\\\n",
    "This will convert the integer variable into binary representation and shift all the bits of the integer to left by specified number of times,\\\n",
    "In principle one left shift of a number is similar to multiplying the number by 2\\\n",
    "8 << 1 = 16\n",
    "\n",
    "In both the shift operation, the "
   ]
  },
  {
   "cell_type": "code",
   "execution_count": 4,
   "id": "fe6a9582-5b80-4902-91f8-97224a6937c2",
   "metadata": {},
   "outputs": [
    {
     "name": "stdout",
     "output_type": "stream",
     "text": [
      "8 >> 1 = 4\n",
      "8 << 1 = 16\n"
     ]
    }
   ],
   "source": [
    "a = 8\n",
    "print(f\"{a} >> 1 = {a >> 1}\")\n",
    "print(f\"{a} << 1 = {a << 1}\")"
   ]
  },
  {
   "cell_type": "markdown",
   "id": "cf99830c-8187-4deb-b8f2-b4bb09429fd0",
   "metadata": {},
   "source": [
    "5. Create a list containing int type data of length 15. Then write a code to check if 10 is present in the list or not.\\\n",
    "Ans:"
   ]
  },
  {
   "cell_type": "code",
   "execution_count": 7,
   "id": "d9f56dc7-d8e9-45ca-af24-2798b6c56026",
   "metadata": {},
   "outputs": [
    {
     "name": "stdout",
     "output_type": "stream",
     "text": [
      "10 is not present in the list\n"
     ]
    }
   ],
   "source": [
    "l = [1, 2, 3, 45, 6, 77, 30, 88, 9, 55, 74, 58, 12, 52, 11]\n",
    "if 10 in l:\n",
    "    print(\"10 is present in the list\")\n",
    "else:\n",
    "    print(\"10 is not present in the list\")"
   ]
  }
 ],
 "metadata": {
  "kernelspec": {
   "display_name": "Python 3 (ipykernel)",
   "language": "python",
   "name": "python3"
  },
  "language_info": {
   "codemirror_mode": {
    "name": "ipython",
    "version": 3
   },
   "file_extension": ".py",
   "mimetype": "text/x-python",
   "name": "python",
   "nbconvert_exporter": "python",
   "pygments_lexer": "ipython3",
   "version": "3.9.12"
  }
 },
 "nbformat": 4,
 "nbformat_minor": 5
}
