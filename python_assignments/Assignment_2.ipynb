{
 "cells": [
  {
   "cell_type": "markdown",
   "id": "a3535c34-bd7d-4c8c-b110-5d6ebde3c40f",
   "metadata": {},
   "source": [
    "Q1. What are the two values of the Boolean data type? How do you write them?\\\n",
    "Ans: \\\n",
    "True and False"
   ]
  },
  {
   "cell_type": "markdown",
   "id": "8e9da98e-c254-4e23-84dc-b7213db8ac76",
   "metadata": {},
   "source": [
    "Q2. What are the three different types of Boolean operators?\\\n",
    "Ans:\n",
    "1. and\n",
    "2. or\n",
    "3. not"
   ]
  },
  {
   "cell_type": "markdown",
   "id": "08855a8d-319d-4fdb-b754-04a156c61f76",
   "metadata": {},
   "source": [
    "Q3. Make a list of each Boolean operator's truth tables (i.e. every possible combination of Boolean\n",
    "values for the operator and what it evaluate ).\\\n",
    "Ans:\\\n",
    "1. and operator\n",
    "\n",
    "A |  B | Output\n",
    "\n",
    "0 |  0 |    0\\\n",
    "0 |  1 |    0\\\n",
    "1 |  0 |    0\\\n",
    "1 |  1 |    1\\\n",
    "\\\n",
    "2. or operator\n",
    "\n",
    "A |  B | Output\n",
    "\n",
    "0 |  0 |    0\\\n",
    "0 |  1 |    1\\\n",
    "1 |  0 |    1\\\n",
    "1 |  1 |    1\\\n",
    "\\\n",
    "3. not operator\n",
    "\n",
    "A | Output\\\n",
    "0 | 1\\\n",
    "1 | 0"
   ]
  },
  {
   "cell_type": "markdown",
   "id": "f38273e4-0b5c-4521-bf38-4e64950e93e0",
   "metadata": {},
   "source": [
    "Q4. What are the values of the following expressions?\\\n",
    "Ans:\n",
    "1. (5 > 4) and (3 == 5) - False\n",
    "2. not (5 > 4) - False\n",
    "3. (5 > 4) or (3 == 5) - True\n",
    "4. not ((5 > 4) or (3 == 5)) - False\n",
    "5. (True and True) and (True == False) - False\n",
    "6. (not False) or (not True) - True"
   ]
  },
  {
   "cell_type": "markdown",
   "id": "a0cde788-81db-4cf2-bcae-635fde45e954",
   "metadata": {},
   "source": [
    "Q5. What are the six comparison operators?\\\n",
    "Ans:\n",
    "1. Greater than operator - >\n",
    "2. Greater than or equal to operator - >=\n",
    "3. Less than operator - <\n",
    "4. Less than or equal to operator - <=\n",
    "5. Equal to - ==\n",
    "6. Not equal to - !=\n"
   ]
  },
  {
   "cell_type": "markdown",
   "id": "4bec681f-ac7d-4ce4-b143-5e0cdf44b8e7",
   "metadata": {},
   "source": [
    "Q6. How do you tell the difference between the equal to and assignment operators?Describe a\n",
    "condition and when you would use one.\\\n",
    "Ans:\\\n",
    "equal to operator(==) is used to perform comparison between 2 values/iterables where as assignemnt operator(=) is used to assign a particular value to a variable\\\n"
   ]
  },
  {
   "cell_type": "code",
   "execution_count": 1,
   "id": "9c9aa7a2-d0be-4521-9619-9ea6623a9818",
   "metadata": {},
   "outputs": [
    {
     "name": "stdout",
     "output_type": "stream",
     "text": [
      "value is a is 10\n"
     ]
    }
   ],
   "source": [
    "#example:\\\n",
    "a = 10 # assignment operator to assign value 10 to variable a\\\n",
    "if a == 10: # equal to operator to compare the value of a and 10 are equal\\\n",
    "    print(\"value is a is 10\")"
   ]
  },
  {
   "cell_type": "markdown",
   "id": "f96bcfc7-1439-42f4-8019-3683160ff96f",
   "metadata": {},
   "source": [
    "Q7. Identify the three blocks in this code:\\\n",
    "Ans:"
   ]
  },
  {
   "cell_type": "code",
   "execution_count": 2,
   "id": "95f7f731-ae18-4977-be26-fec67ce3d333",
   "metadata": {},
   "outputs": [
    {
     "name": "stdout",
     "output_type": "stream",
     "text": [
      "ham\n",
      "spam\n",
      "spam\n"
     ]
    }
   ],
   "source": [
    "spam = 0\n",
    "if spam == 10:\n",
    "\t# code block 1\n",
    "\tprint('eggs')\n",
    "if spam > 5:\n",
    "\t# code block 2\n",
    "\tprint('bacon')\n",
    "else:\n",
    "\t# code block 3\n",
    "\tprint('ham')\n",
    "\tprint('spam')\n",
    "\tprint('spam')"
   ]
  },
  {
   "cell_type": "markdown",
   "id": "1c97307f-0898-431f-912a-6e0edeb0153c",
   "metadata": {},
   "source": [
    "Q8. Write code that prints Hello if 1 is stored in spam, prints Howdy if 2 is stored in spam, and prints\n",
    "Greetings! if anything else is stored in spam."
   ]
  },
  {
   "cell_type": "code",
   "execution_count": 3,
   "id": "7a930cf5-f0fd-4248-bce3-be839478eafa",
   "metadata": {},
   "outputs": [
    {
     "name": "stdout",
     "output_type": "stream",
     "text": [
      "Hello\n"
     ]
    }
   ],
   "source": [
    "spam = 1\n",
    "if spam == 1:\n",
    "    print(\"Hello\")\n",
    "elif spam == 2:\n",
    "    print(\"Howdy\")\n",
    "else:\n",
    "    print(\"Greetings!\")"
   ]
  },
  {
   "cell_type": "markdown",
   "id": "ae326511-42bb-46d1-86de-7ee39ea1eda6",
   "metadata": {},
   "source": [
    "Q9.If your programme is stuck in an endless loop, what keys you’ll press?\\\n",
    "Ans:\\\n",
    "cntrl + C"
   ]
  },
  {
   "cell_type": "markdown",
   "id": "2982856b-f88e-4e4b-a95e-9573969f5eae",
   "metadata": {},
   "source": [
    "Q10. How can you tell the difference between break and continue?\\\n",
    "Ans:\\\n",
    "break and continue statements are used inside the loop block, break statement when executed inside the loop will make the control to come out of the loop entirely, continue statement when executed will stop the execution of current iteration and control will move to condition check for next iteration"
   ]
  },
  {
   "cell_type": "markdown",
   "id": "669a811c-d81a-4efd-8eec-07cdad5525d3",
   "metadata": {},
   "source": [
    "Q11. In a for loop, what is the difference between range(10), range(0, 10), and range(0, 10, 1)?\\\n",
    "Ans:\\\n",
    "there is no difference in the output generated by range(10), range(0, 10), and range(0, 10, 1), they generate value from 0 to 9\\\n",
    "range(10) - here the default start value of 0 and step value of 1 is considered, provided end value is 10\\\n",
    "range(0, 10) - here the default step value of 1 is considered,  provided start value as 0 end value is 10\\\n",
    "range(0, 10, 1) - here all the 3 values have been explicitly mentioned start value as 0, end value is 10, step of 1\\"
   ]
  },
  {
   "cell_type": "markdown",
   "id": "8ee1f769-be5c-47ca-8b3b-a5c24f00ac4c",
   "metadata": {},
   "source": [
    "Q12. Write a short program that prints the numbers 1 to 10 using a for loop. Then write an equivalent\n",
    "program that prints the numbers 1 to 10 using a while loop."
   ]
  },
  {
   "cell_type": "code",
   "execution_count": 4,
   "id": "ecdcaf1e-bdc0-4a97-abc5-66cd2e043276",
   "metadata": {},
   "outputs": [
    {
     "name": "stdout",
     "output_type": "stream",
     "text": [
      "1\n",
      "2\n",
      "3\n",
      "4\n",
      "5\n",
      "6\n",
      "7\n",
      "8\n",
      "9\n",
      "10\n",
      "1\n",
      "2\n",
      "3\n",
      "4\n",
      "5\n",
      "6\n",
      "7\n",
      "8\n",
      "9\n",
      "10\n"
     ]
    }
   ],
   "source": [
    "# using for loop\n",
    "for i in range(1,11):\n",
    "    print(i)\n",
    "    \n",
    "# using while loop\n",
    "i = 1\n",
    "while i <= 10:\n",
    "    print(i)\n",
    "    i += 1"
   ]
  },
  {
   "cell_type": "markdown",
   "id": "b4a1b779-03eb-4e14-bf7e-082095bb70dc",
   "metadata": {},
   "source": [
    "Q13. If you had a function named bacon() inside a module named spam, how would you call it after importing spam?\\\n",
    "Ans:\\\n",
    "import spam\\\n",
    "spam.bacon()"
   ]
  }
 ],
 "metadata": {
  "kernelspec": {
   "display_name": "Python 3 (ipykernel)",
   "language": "python",
   "name": "python3"
  },
  "language_info": {
   "codemirror_mode": {
    "name": "ipython",
    "version": 3
   },
   "file_extension": ".py",
   "mimetype": "text/x-python",
   "name": "python",
   "nbconvert_exporter": "python",
   "pygments_lexer": "ipython3",
   "version": "3.9.12"
  }
 },
 "nbformat": 4,
 "nbformat_minor": 5
}
