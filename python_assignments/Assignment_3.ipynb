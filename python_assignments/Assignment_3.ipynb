{
 "cells": [
  {
   "cell_type": "markdown",
   "id": "44320595-5145-47e1-a4ee-d14e50098a90",
   "metadata": {},
   "source": [
    "1. Why are functions advantageous to have in your programs?\\\n",
    "Ans:\\\n",
    "Function are used to modularize the code and to improve the reusability of the code.\\\n",
    "Using functions we can reduce the lines of code"
   ]
  },
  {
   "cell_type": "markdown",
   "id": "451f0dcd-95f6-4de9-93a5-c1094e5166fd",
   "metadata": {},
   "source": [
    "2. When does the code in a function run: when it's specified or when it's called?\\\n",
    "Ans:\\\n",
    "The code inside the function will execute only when the function is called"
   ]
  },
  {
   "cell_type": "markdown",
   "id": "50a08d10-9571-44ae-89a0-e0d9edfc89f1",
   "metadata": {},
   "source": [
    "3. What statement creates a function?\\\n",
    "Ans:\\\n",
    "def keyword is used to create a function\\\n",
    "example: \\\n",
    "def function_name():\\\n",
    "    pass"
   ]
  },
  {
   "cell_type": "markdown",
   "id": "55589883-d690-485f-89be-e21b921c98f9",
   "metadata": {},
   "source": [
    "4. What is the difference between a function and a function call?\\\n",
    "Ans:\\\n",
    "function is a named block of code, where we define the code logic of the function\\\n",
    "function call is when the function will start the execution"
   ]
  },
  {
   "cell_type": "markdown",
   "id": "e6eaee8d-baf3-4815-b41c-d5a10c429aea",
   "metadata": {},
   "source": [
    "5. How many global scopes are there in a Python program? How many local scopes?\\\n",
    "Ans:\\\n",
    "There is only one global scope and one local scope in python program exectution"
   ]
  },
  {
   "cell_type": "markdown",
   "id": "5ccda2fb-9c10-4a5e-ac49-737834b8fd4e",
   "metadata": {},
   "source": [
    "6. What happens to variables in a local scope when the function call returns?\\\n",
    "Ans:\\\n",
    "Once the function call returns, all the variables in the local scope will be deleted and memory used by the local variables will be freed"
   ]
  },
  {
   "cell_type": "markdown",
   "id": "ad240629-8e19-4a4b-9351-55db96565dd4",
   "metadata": {},
   "source": [
    "7. What is the concept of a return value? Is it possible to have a return value in an expression?\\\n",
    "Ans:\\\n",
    "Return value is used when we want to return a particular or a bunch of value(tuple) when a function completes execution,\n",
    "return value can be an expression, in this case, the expression is first evaluated and then the resultant value is returned to calling function"
   ]
  },
  {
   "cell_type": "markdown",
   "id": "b0b79f63-68d9-4df4-a291-c4712141e671",
   "metadata": {},
   "source": [
    "8. If a function does not have a return statement, what is the return value of a call to that function?\\\n",
    "Ans:\\\n",
    "if a function does not have a return statement, the default value i.e. None value is returned to calling function"
   ]
  },
  {
   "cell_type": "markdown",
   "id": "9a5513a0-2d3f-4f5e-b4d5-fcefb8683364",
   "metadata": {},
   "source": [
    "9. How do you make a function variable refer to the global variable?\\\n",
    "Ans:\\\n",
    "Using the global keyword inside the function we can refer and modify variable in global scope\\\n",
    "example:\n"
   ]
  },
  {
   "cell_type": "code",
   "execution_count": 2,
   "id": "2029c992-8cc5-44c5-808f-500d70bcf49a",
   "metadata": {},
   "outputs": [
    {
     "name": "stdout",
     "output_type": "stream",
     "text": [
      "5\n"
     ]
    }
   ],
   "source": [
    "a = 10\n",
    "def modify():\n",
    "    global a\n",
    "    a = 5\n",
    "\n",
    "modify()\n",
    "print(a)"
   ]
  },
  {
   "cell_type": "markdown",
   "id": "d0630ca6-5cad-4448-89ad-f51f2aa70ad1",
   "metadata": {},
   "source": [
    "10. What is the data type of None?\\\n",
    "Ans:\\\n",
    "NoneType"
   ]
  },
  {
   "cell_type": "markdown",
   "id": "54d95fae-d53e-4236-ac45-35d2097ce41a",
   "metadata": {},
   "source": [
    "11. What does the sentence import areallyourpetsnamederic do?\\\n",
    "Ans:\\\n",
    "the sentence will import the areallyourpetsnamederic package/module and the python file importing can use all the public classes,functions present in areallyourpetsnamederic python file/ package"
   ]
  },
  {
   "cell_type": "markdown",
   "id": "4c08fc0e-af76-40c6-9044-f79c5e457e4d",
   "metadata": {},
   "source": [
    "12. If you had a bacon() feature in a spam module, what would you call it after importing spam?\\\n",
    "Ans:\\\n",
    "import spam\\\n",
    "spam.bacon()"
   ]
  },
  {
   "cell_type": "markdown",
   "id": "2affc9bd-ad13-4df9-90c6-e69ff1121d61",
   "metadata": {},
   "source": [
    "13. What can you do to save a programme from crashing if it encounters an error?\\\n",
    "Ans:\\\n",
    "we need to perform exceptional handling to avoid the programme from crashing\n",
    "example:"
   ]
  },
  {
   "cell_type": "markdown",
   "id": "c761211d-4c72-4d90-aad4-8b4418968347",
   "metadata": {},
   "source": [
    "14. What is the purpose of the try clause? What is the purpose of the except clause?\\\n",
    "Ans:\\\n",
    "The code where we are expecting to encounter error must be present inside the try clause\\\n",
    "except clause is used to catch the exception raised inside the try clause, here we can add the code to execute in case the exception is raised.\n"
   ]
  },
  {
   "cell_type": "code",
   "execution_count": 3,
   "id": "5bf62da7-46ba-4d5e-85c9-ed0ab0964e68",
   "metadata": {},
   "outputs": [],
   "source": [
    "try:\n",
    "    pass # suspected code where error is expected\n",
    "except exception as error:\n",
    "    print(\"Error encountered\")\n",
    "    print(error)\n",
    "finally:\n",
    "    pass"
   ]
  }
 ],
 "metadata": {
  "kernelspec": {
   "display_name": "Python 3 (ipykernel)",
   "language": "python",
   "name": "python3"
  },
  "language_info": {
   "codemirror_mode": {
    "name": "ipython",
    "version": 3
   },
   "file_extension": ".py",
   "mimetype": "text/x-python",
   "name": "python",
   "nbconvert_exporter": "python",
   "pygments_lexer": "ipython3",
   "version": "3.9.12"
  }
 },
 "nbformat": 4,
 "nbformat_minor": 5
}
