{
 "cells": [
  {
   "cell_type": "markdown",
   "id": "0a813012-6898-40cf-8ea2-d9bf8342f227",
   "metadata": {},
   "source": [
    "1. What is a lambda function in Python, and how does it differ from a regular function?\\\n",
    "Ans:\\\n",
    "lambda functions are the function which do not have a name, we do not require def keyword to define a lambda function.\\\n",
    "To define a lambda function, we need lambda keyword, but to define a regular function we need to use def keyword\\\n",
    "lambda function are used mainly to perform simple operation, where as regular functions can be used to perform complex operations in the program"
   ]
  },
  {
   "cell_type": "markdown",
   "id": "1e12a51b-f67d-415e-b94d-c68896f6dc86",
   "metadata": {},
   "source": [
    "2. Can a lambda function in Python have multiple arguments? If yes, how can you define and use them?\\\n",
    "Ans:\\\n",
    "Yes lambda functions can take mutiple arguements,\\\n",
    "example:\\\n",
    "lambda x,y: x+y\\\n",
    "we can assign a name to the above lambda function and call them\\\n",
    "sum = lambda x,y: x+y\\\n",
    "sum(10,20)"
   ]
  },
  {
   "cell_type": "markdown",
   "id": "ee1cf00a-9b2e-49b3-a191-f6c8d9632704",
   "metadata": {},
   "source": [
    "3. How are lambda functions typically used in Python? Provide an example use case.\\\n",
    "Ans:\\\n",
    "lambda functions are used in python for simple operattions like addition, aggregation of list using reduce, they are used mainly in map, filter where we create another list from existing list\\\n",
    "example:\\\n",
    "sum = lambda x,y: x+y\\\n",
    "pow_2 = lambda x: x**2\\\n",
    "sum_of_list = reduce(lambda x,y: x+y, [1,2,3,4,5,6])"
   ]
  },
  {
   "cell_type": "markdown",
   "id": "809cb61b-0a2b-423b-8985-4473a5f621db",
   "metadata": {},
   "source": [
    "4. What are the advantages and limitations of lambda functions compared to regular functions in Python?\n",
    "Ans:\\\n",
    "Advantages:\n",
    "They are short and reduces lines of code\\\n",
    "they dont require any additional variables\\\n",
    "\\\n",
    "Disadvantages:\\\n",
    "Lack of documentation, since they are one liner, we cant use documentation string for lambda function\n",
    "Hard to debug the code inside the lambda functions\\\n",
    "Some lambda functions can be difficult to understand"
   ]
  },
  {
   "cell_type": "code",
   "execution_count": null,
   "id": "83285964-225b-4fb2-80fa-4f87d60b75aa",
   "metadata": {},
   "outputs": [],
   "source": []
  }
 ],
 "metadata": {
  "kernelspec": {
   "display_name": "Python 3 (ipykernel)",
   "language": "python",
   "name": "python3"
  },
  "language_info": {
   "codemirror_mode": {
    "name": "ipython",
    "version": 3
   },
   "file_extension": ".py",
   "mimetype": "text/x-python",
   "name": "python",
   "nbconvert_exporter": "python",
   "pygments_lexer": "ipython3",
   "version": "3.9.12"
  }
 },
 "nbformat": 4,
 "nbformat_minor": 5
}
