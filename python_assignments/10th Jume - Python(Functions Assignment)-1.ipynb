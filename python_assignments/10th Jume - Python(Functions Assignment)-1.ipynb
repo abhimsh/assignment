{
 "cells": [
  {
   "cell_type": "markdown",
   "id": "3eac1f45-3d4b-485d-9354-ee642285536a",
   "metadata": {},
   "source": [
    "1. In Python, what is the difference between a built-in function and a user-defined function? Provide an example of each.\\\n",
    "Ans:\\\n",
    "Built-In functions are the functions that are already defined inside the python, when we install python all these functions come with it\\\n",
    "User define function are function which developer creates based on the need of python program for code reuseability.\\\n",
    "\\\n",
    "Exapmle:\\\n",
    "In-Built functions:\\ \n",
    "len(), type()\\\n",
    "\\\n",
    "User defince function:\\\n",
    "def add_numbers(a,b):\\\n",
    "    return a+b"
   ]
  },
  {
   "cell_type": "markdown",
   "id": "cb5e9d7b-2d58-4283-b97c-4c4f09e0ecc9",
   "metadata": {},
   "source": [
    "2. How can you pass arguments to a function in Python? Explain the difference between positional arguments and keyword arguments.\\\n",
    "Ans:\\\n",
    "we can pass values to the functions via parameters/arguements during function call\\\n",
    "when we are passing the values to the function, we can pass as a positional arguement or as keyword arguements\\\n",
    "when values are passed as Positional arguements, the value are assigned to function arguements based on the position of the value during the function call\\\n",
    "when values are passed as Keyword arguements, the parameter names are mentioned and values are assigned to each parameter exclusively, here the position of the arguement/value passed dies not matter\n",
    "example:\\\n",
    "\\\n",
    "def add(a,b):\\\n",
    "    return a+b\\\n",
    "\\\n",
    "calling function as position arguement: \\\n",
    "add(2,3) here based on the position 2 is assigned to a and 3 is assigned to b\\\n",
    "add(3,2) here based on the position 3 is assigned to a and 3 is assigned to b\\\n",
    "\\\n",
    "calling function as Keyword arguement: \\\n",
    "add(a=2, b=3) here we are exclusively assigning the values 2 to a and 3 to b\\\n",
    "add(b=3, a=2) here we are exclusively assigning the values 2 to b and 2 to b"
   ]
  },
  {
   "cell_type": "markdown",
   "id": "ede6cc17-a82b-43db-bc50-86c025a1165d",
   "metadata": {},
   "source": [
    "3. What is the purpose of the return statement in a function? Can a function have multiple return statements? Explain with an example.\\\n",
    "Ans:\\\n",
    "the purpose of the return statement is to return values to the calling function\\\n",
    "Yes, the function can have mutiple return statements, but the function exits when it hits the first return statement\\\n",
    "\\\n",
    "def check_even(num):\\\n",
    "    if num % 2 == 0:\n",
    "        return True\n",
    "    else:\n",
    "        return False"
   ]
  },
  {
   "cell_type": "markdown",
   "id": "af665a50-b710-49f0-b6f2-aee30e1e8e53",
   "metadata": {},
   "source": [
    "4. What are lambda functions in Python? How are they different from regular functions? Provide an example where a lambda function can be useful.\\\n",
    "Ans:\\\n",
    "lambda functions are anonymous function which do not have name,\\\n",
    "when we want to define a lambda function we have to use just lambda keyword, but for defining the regular function we need to use def or return keywords\\\n",
    "lambda functions are mainly used to preform simple operations, when we need to perform complex operation we need to define a regular function\n",
    "\n",
    "check_even = lambda x: True if x % 2 == 0 else False\n",
    "check_even(5)"
   ]
  },
  {
   "cell_type": "markdown",
   "id": "e3ef47f4-1abd-433d-8039-c954ea0a7fa4",
   "metadata": {},
   "source": [
    "5. How does the concept of \"scope\" apply to functions in Python? Explain the difference between local scope and global scope.\\\n",
    "Ans:\\\n",
    "scope of functions refers to the which all code can call the particular function, but when ever the code is executing inside the function block, the code will only have access to the code in local scope(inside the function) and global scope, it can be variable/functions/class\\\n",
    "differences can be explained by considering the variables\\\n",
    "\\\n",
    "Local scope:\\\n",
    "The variable in the local scope can only be accessed by the function/code inside that particular function\n",
    "The memory to the local variable is created when the functions inside which the variable is defined is called and the memry is deleted when the code exists that function\\\n",
    "\\\n",
    "Global Scope:\\\n",
    "The variable in the global scope can be accessed by any function/code inside the program\\\n",
    "The variable in the global scope is created when the program starts executing and the memory will be destroyed when the entire program terminates\\"
   ]
  },
  {
   "cell_type": "markdown",
   "id": "18544da9-35dd-49d3-87e7-b30d34afc983",
   "metadata": {},
   "source": [
    "6. How can you use the \"return\" statement in a Python function to return multiple values?\\\n",
    "Ans:\\\n",
    "we can return mutiple values from inside the function using return statement, but the values will be packed as tuple and mutiple values that are returned will be present inside the tuple, we can access values using indexing of tuple or unpacking the values.\\\n",
    "\\\n",
    "def return_multiple():\\\n",
    "       return 10,20,30,40\\\n",
    "       \n",
    "a,b,c,d = return_multiple()\\\n",
    "tuple_values = return_multiple()\\\n",
    "a = tuple_values[0]\\\n",
    "b = tuple_values[1]\\\n",
    "c = tuple_values[2]\\\n",
    "d = tuple_values[3]"
   ]
  },
  {
   "cell_type": "code",
   "execution_count": null,
   "id": "6ad1967c-8f4b-495e-8fb0-305cf53cf858",
   "metadata": {},
   "outputs": [],
   "source": []
  }
 ],
 "metadata": {
  "kernelspec": {
   "display_name": "Python 3 (ipykernel)",
   "language": "python",
   "name": "python3"
  },
  "language_info": {
   "codemirror_mode": {
    "name": "ipython",
    "version": 3
   },
   "file_extension": ".py",
   "mimetype": "text/x-python",
   "name": "python",
   "nbconvert_exporter": "python",
   "pygments_lexer": "ipython3",
   "version": "3.9.12"
  }
 },
 "nbformat": 4,
 "nbformat_minor": 5
}
