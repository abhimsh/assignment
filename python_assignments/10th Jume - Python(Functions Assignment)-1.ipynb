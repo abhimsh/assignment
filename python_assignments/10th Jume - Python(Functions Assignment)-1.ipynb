{
 "cells": [
  {
   "cell_type": "markdown",
   "id": "3eac1f45-3d4b-485d-9354-ee642285536a",
   "metadata": {},
   "source": [
    "1. In Python, what is the difference between a built-in function and a user-defined function? Provide an example of each.\\\n",
    "Ans:\\\n",
    "Built-In functions are the functions that are already defined inside the python, when we install python all these functions come with it\\\n",
    "User define function are function which developer creates based on the need of python program for code reuseability.\\\n",
    "\\\n",
    "Exapmle:\\\n",
    "In-Built functions:\n",
    "len(), type()\\\n",
    "\\\n",
    "User defince function:\\\n",
    "def add_numbers(a,b):\\\n",
    "    return a+b"
   ]
  },
  {
   "cell_type": "markdown",
   "id": "cb5e9d7b-2d58-4283-b97c-4c4f09e0ecc9",
   "metadata": {},
   "source": [
    "2. How can you pass arguments to a function in Python? Explain the difference between positional arguments and keyword arguments.\\\n",
    "Ans:\\\n",
    "we can pass values to the functions via parameters/arguements during function call\\\n",
    "when we are passing the values to the function, we can pass as a positional arguement or as keyword arguements\\\n",
    "when values are passed as Positional arguements, the value are assigned to function arguements based on the position of the value during the function call\\\n",
    "when values are passed as Keyword arguements, the parameter names are mentioned and values are assigned to each parameter exclusively, here the position of the arguement/value passed does not matter\n",
    "example:\\\n",
    "\\\n",
    "def add(a,b):\\\n",
    "    return a+b\\\n",
    "\\\n",
    "calling function as position arguement: \\\n",
    "add(2,3) here based on the position 2 is assigned to a and 3 is assigned to b\\\n",
    "add(3,2) here based on the position 3 is assigned to a and 3 is assigned to b\\\n",
    "\\\n",
    "calling function as Keyword arguement: \\\n",
    "add(a=2, b=3) here we are exclusively assigning the values 2 to a and 3 to b\\\n",
    "add(b=3, a=2) here we are exclusively assigning the values 2 to b and 2 to b"
   ]
  },
  {
   "cell_type": "markdown",
   "id": "ede6cc17-a82b-43db-bc50-86c025a1165d",
   "metadata": {},
   "source": [
    "3. What is the purpose of the return statement in a function? Can a function have multiple return statements? Explain with an example.\\\n",
    "Ans:\\\n",
    "the purpose of the return statement is to return values to the calling function\\\n",
    "Yes, the function can have mutiple return statements, but the function exits when it hits the first return statement\\\n",
    "\\\n",
    "def check_even(num):\\\n",
    "    if num % 2 == 0:\n",
    "        return True\n",
    "    else:\n",
    "        return False"
   ]
  },
  {
   "cell_type": "markdown",
   "id": "af665a50-b710-49f0-b6f2-aee30e1e8e53",
   "metadata": {},
   "source": [
    "4. What are lambda functions in Python? How are they different from regular functions? Provide an example where a lambda function can be useful.\\\n",
    "Ans:\\\n",
    "lambda functions are anonymous function which do not have name,\\\n",
    "when we want to define a lambda function we have to use just lambda keyword, but for defining the regular function we need to use def or return keywords\\\n",
    "lambda functions are mainly used to perform simple operations, when we need to perform complex operation we need to define a regular function\n",
    "\n",
    "check_even = lambda x: True if x % 2 == 0 else False\\\n",
    "check_even(5)"
   ]
  },
  {
   "cell_type": "markdown",
   "id": "e3ef47f4-1abd-433d-8039-c954ea0a7fa4",
   "metadata": {},
   "source": [
    "5. How does the concept of \"scope\" apply to functions in Python? Explain the difference between local scope and global scope.\\\n",
    "Ans:\\\n",
    "scope of functions refers to the which all code can call the particular function, but when ever the code is executing inside the function block, the code will only have access to the code in local scope(inside the function) and global scope, it can be variable/functions/class\\\n",
    "differences can be explained by considering the variables\\\n",
    "\\\n",
    "Local scope:\\\n",
    "The variable in the local scope can only be accessed by the function/code inside that particular function.\\\n",
    "The memory to the local variable is created when the functions inside which the variable is defined is called and the memry is deleted when the code exists that function\\\n",
    "\\\n",
    "Global Scope:\\\n",
    "The variable in the global scope can be accessed by any function/code inside the program\\\n",
    "The variable in the global scope is created when the program starts executing and the memory will be destroyed when the entire program terminates\\"
   ]
  },
  {
   "cell_type": "markdown",
   "id": "18544da9-35dd-49d3-87e7-b30d34afc983",
   "metadata": {},
   "source": [
    "6. How can you use the \"return\" statement in a Python function to return multiple values?\\\n",
    "Ans:\\\n",
    "we can return mutiple values from inside the function using return statement, but the values will be packed as tuple and mutiple values that are returned will be present inside the tuple, we can access values using indexing of tuple or unpacking the values.\\\n",
    "\\\n",
    "def return_multiple():\n",
    "       return 10,20,30,40\\\n",
    "       \n",
    "a,b,c,d = return_multiple()\\\n",
    "tuple_values = return_multiple()\\\n",
    "a = tuple_values[0]\\\n",
    "b = tuple_values[1]\\\n",
    "c = tuple_values[2]\\\n",
    "d = tuple_values[3]"
   ]
  },
  {
   "cell_type": "markdown",
   "id": "e3afc48a-bb82-4f49-81ad-33dde3c3b833",
   "metadata": {},
   "source": [
    "7. What is the difference between the \"pass by value\" and \"pass by reference\" concepts when it comes to function arguments in Python?\\\n",
    "Ans:\\\n",
    "Pass by value:\\\n",
    "here while calling the function, the values of variable that are passed to the function are copied and the copied value is sent to the fucntion,\\\n",
    "modification made to the values of these variable inside the function will not affect the variable in the calling function\\\n",
    "Pass by reference:\\\n",
    "here while calling the function, the referrence of variable are passed to the function that is called, so \n",
    "modification made to those values inside the function will affect the variable in the calling function\\\n",
    "\\\n",
    "python implements call by assignemnt/ call by object reference\\\n",
    "when we pass immuatble datatype variables like str, int, tuple, even though we are passing the reference the values cannot be modified, if the called function tries to modify the value a new local variable will be created inside the function which gets destroyed after function exists\n",
    "When we pass a mutable datatype variables like list, dict,as the reference are passed their values can be modified using these references , so if the called function modifies the values inside the function, the values will be affected in the calling function as well."
   ]
  },
  {
   "cell_type": "markdown",
   "id": "52d4af5f-e7d7-4780-ae59-32aee2c9e9fa",
   "metadata": {},
   "source": [
    "8. Create a function that can intake integer or decimal value and do following operations:\n",
    "a. Logarithmic function (log x)\\\n",
    "b. Exponential function (exp(x))\\\n",
    "c. Power function with base 2 (2x)\\\n",
    "d. Square root\\\n",
    "\\\n",
    "Ans:\n",
    "\n"
   ]
  },
  {
   "cell_type": "code",
   "execution_count": 2,
   "id": "cdbacf7a-89ae-44e1-a13d-3acc7d9ba47e",
   "metadata": {},
   "outputs": [
    {
     "name": "stdout",
     "output_type": "stream",
     "text": [
      "0.6931471805599453\n",
      "7.38905609893065\n",
      "32\n",
      "1.4142135623730951\n"
     ]
    }
   ],
   "source": [
    "import math\n",
    "\n",
    "logarithm = lambda x: math.log(x)\n",
    "exponential = lambda x: math.exp(x)\n",
    "power_2 = lambda x: pow(2, x)\n",
    "square_root = lambda x: math.sqrt(x)\n",
    "\n",
    "print(logarithm(2))\n",
    "print(exponential(2))\n",
    "print(power_2(5))\n",
    "print(square_root(2))"
   ]
  },
  {
   "cell_type": "markdown",
   "id": "61b6d6e0-3888-41e4-8c65-0432a0099d39",
   "metadata": {},
   "source": [
    "9. Create a function that takes a full name as an argument and returns first name and last name.\\\n",
    "Ans:\n"
   ]
  },
  {
   "cell_type": "code",
   "execution_count": 3,
   "id": "9ae7b17c-2a3c-42e7-b9dc-775ae57c0fea",
   "metadata": {},
   "outputs": [],
   "source": [
    "def get_first_and_last_name(full_name):\n",
    "    first_name, last_name = full_name.split()\n",
    "    return first_name, last_name"
   ]
  }
 ],
 "metadata": {
  "kernelspec": {
   "display_name": "Python 3 (ipykernel)",
   "language": "python",
   "name": "python3"
  },
  "language_info": {
   "codemirror_mode": {
    "name": "ipython",
    "version": 3
   },
   "file_extension": ".py",
   "mimetype": "text/x-python",
   "name": "python",
   "nbconvert_exporter": "python",
   "pygments_lexer": "ipython3",
   "version": "3.9.12"
  }
 },
 "nbformat": 4,
 "nbformat_minor": 5
}
