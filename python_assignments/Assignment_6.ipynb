{
 "cells": [
  {
   "cell_type": "markdown",
   "id": "29107429-89f5-452f-8632-fe1b2c468225",
   "metadata": {},
   "source": [
    "1. What are keywords in python? Using the keyword library, print all the python keywords.\\\n",
    "Ans:\\\n",
    "Keywords are reserved words in python which have special meaning and cannot be used for any function/class/variable names"
   ]
  },
  {
   "cell_type": "code",
   "execution_count": 1,
   "id": "9b3170f2-7775-46b2-8c8a-8d778c031ddb",
   "metadata": {},
   "outputs": [
    {
     "name": "stdout",
     "output_type": "stream",
     "text": [
      "['False', 'None', 'True', '__peg_parser__', 'and', 'as', 'assert', 'async', 'await', 'break', 'class', 'continue', 'def', 'del', 'elif', 'else', 'except', 'finally', 'for', 'from', 'global', 'if', 'import', 'in', 'is', 'lambda', 'nonlocal', 'not', 'or', 'pass', 'raise', 'return', 'try', 'while', 'with', 'yield']\n"
     ]
    }
   ],
   "source": [
    "from keyword import kwlist\n",
    "print(kwlist)"
   ]
  },
  {
   "cell_type": "markdown",
   "id": "8af50741-36bb-4ca1-97e2-b419cccc4e4f",
   "metadata": {},
   "source": [
    "2. What are the rules to create variables in python?\\\n",
    "Ans:\\\n",
    "Variable names can contain alphabet(lower and upper case), _(underscore) and numbers\\\n",
    "Variable names should not start with number"
   ]
  },
  {
   "cell_type": "markdown",
   "id": "f0506d2a-fbde-4181-bc2a-357dc325a7f5",
   "metadata": {},
   "source": [
    "3. What are the standards and conventions followed for the nomenclature of variables in python to improve code readability and maintainability?\\\n",
    "Ans:\\\n",
    "When we are defining the variable names we follow PEP8 standards, as per that \\\n",
    "variable names must be lowercase letter\\\n",
    "variable names must be separated by underscore\\"
   ]
  },
  {
   "cell_type": "markdown",
   "id": "cb7119a0-c358-4ac1-af49-307b9bb202d2",
   "metadata": {},
   "source": [
    "4. What will happen if a keyword is used as a variable name?\\\n",
    "Ans:\\\n",
    "python will raise invalid syntax error"
   ]
  },
  {
   "cell_type": "code",
   "execution_count": 5,
   "id": "4daa9be9-0a84-4cff-a852-cf6cad12a108",
   "metadata": {},
   "outputs": [
    {
     "ename": "SyntaxError",
     "evalue": "cannot assign to True (2227483689.py, line 1)",
     "output_type": "error",
     "traceback": [
      "\u001b[1;36m  Input \u001b[1;32mIn [5]\u001b[1;36m\u001b[0m\n\u001b[1;33m    True = 10\u001b[0m\n\u001b[1;37m    ^\u001b[0m\n\u001b[1;31mSyntaxError\u001b[0m\u001b[1;31m:\u001b[0m cannot assign to True\n"
     ]
    }
   ],
   "source": [
    "True = 10"
   ]
  },
  {
   "cell_type": "markdown",
   "id": "8c9087af-3b22-465f-835f-bc0a612f5a68",
   "metadata": {},
   "source": [
    "5. For what purpose def keyword is used?\\\n",
    "Ans:\\\n",
    "def keyword is used to define a function\\\n",
    "\\\n",
    "def function_name():\\\n",
    "    pass"
   ]
  },
  {
   "cell_type": "markdown",
   "id": "c0485b32-5f9d-4ef0-8ae8-0acc483fd4d8",
   "metadata": {},
   "source": [
    "6. What is the operation of this special character ‘\\’?\\\n",
    "Ans:\\\n",
    "\\ is used to create escape charaters inside the string like \\n,\\t...\\\n",
    "when we want to write any single python statements in mutiple lines, we can use \\ at the end of statement\\\n",
    "example:"
   ]
  },
  {
   "cell_type": "code",
   "execution_count": 6,
   "id": "1418e03a-91b4-4b3c-b05d-b11d6f339dc5",
   "metadata": {},
   "outputs": [
    {
     "name": "stdout",
     "output_type": "stream",
     "text": [
      "Hello\n"
     ]
    }
   ],
   "source": [
    "a = 10 \n",
    "if a == 10 and \\\n",
    "    a %2 ==0 :\n",
    "    print(\"Hello\")"
   ]
  },
  {
   "cell_type": "markdown",
   "id": "3ba04c56-30ec-4a41-a3bb-3ea68933cf4c",
   "metadata": {},
   "source": [
    "7. Give an example of the following conditions:\n",
    "(i) Homogeneous list\\\n",
    "(ii) Heterogeneous set\\\n",
    "(iii) Homogeneous tuple\\\n",
    "Ans:\\\n",
    "Homogeneous list -> [1,2,3,4,5] list containing only integer values\\\n",
    "Heterogeneous set -> {1,\"a\", 2, [1,2]} set containing string, integers and list data types\\\n",
    "Homogeneous tuple -> (1,2,3,3,4,6) tuple containing only integer values"
   ]
  },
  {
   "cell_type": "markdown",
   "id": "fcbc94e0-ebfa-409d-9685-8af6662129f1",
   "metadata": {},
   "source": [
    "8. Explain the mutable and immutable data types with proper explanation & examples.\\\n",
    "Ans:\\\n",
    "Mutable datatype are datatype that can be modified after its created, example list, dictionary\\\n",
    "taking the example of list:\\\n",
    "list_int = [1,2,3,4,5]\\\n",
    "list_int[1] = 0\\\n",
    "The above code will be executed successfully as list is mutable\\\n",
    "\\\n",
    "\\\n",
    "Immutable datatype are  datatype that cannot be modified after its created, example tuple, str, int, float\\\n",
    "when trying to modify the values in immutable datatypes, python raises the exception\\\n",
    "taking the example of str:\\\n",
    "string_5 = \"abcdef\"\\\n",
    "string_5[1] = \"o\"\\\n",
    "The above code will raise Exception as str is immutable"
   ]
  },
  {
   "cell_type": "markdown",
   "id": "a129b165-47e4-4049-8ac4-9af34d07efac",
   "metadata": {},
   "source": [
    "Q9. Write a code to create the given structure using only for loop.\\\n",
    "    *\\\n",
    "   ***\\\n",
    "  *****\\\n",
    " *******\\\n",
    "*********\\"
   ]
  },
  {
   "cell_type": "code",
   "execution_count": 10,
   "id": "f900b820-3fe0-4168-a04a-890954b4c7ed",
   "metadata": {},
   "outputs": [
    {
     "name": "stdout",
     "output_type": "stream",
     "text": [
      "     *\n",
      "    ***\n",
      "   *****\n",
      "  *******\n",
      " *********\n"
     ]
    }
   ],
   "source": [
    "initial_value = 1\n",
    "total_rows = 5\n",
    "for i in range(total_rows):\n",
    "    print(\" \"*(total_rows - i), end=\"\")\n",
    "    print(\"*\"*initial_value)\n",
    "    initial_value += 2"
   ]
  },
  {
   "cell_type": "markdown",
   "id": "979ee38d-07d9-45a0-9762-9fc4494abfa8",
   "metadata": {},
   "source": [
    "10. Write a code to create the given structure using while loop.\n",
    "|||||||||\\\n",
    "|||||||\\\n",
    "|||||\\\n",
    "|||\\\n",
    "|\\"
   ]
  },
  {
   "cell_type": "code",
   "execution_count": 12,
   "id": "a472c351-8522-4adc-a12e-3b682dc99e7b",
   "metadata": {},
   "outputs": [
    {
     "name": "stdout",
     "output_type": "stream",
     "text": [
      "|||||||||\n",
      " |||||||\n",
      "  |||||\n",
      "   |||\n",
      "    |\n"
     ]
    }
   ],
   "source": [
    "initial_value = 9\n",
    "total_rows = 5\n",
    "for i in range(total_rows, 0, -1):\n",
    "    print(\" \"*(total_rows - i), end=\"\")\n",
    "    print(\"|\"*initial_value)\n",
    "    initial_value -= 2"
   ]
  }
 ],
 "metadata": {
  "kernelspec": {
   "display_name": "Python 3 (ipykernel)",
   "language": "python",
   "name": "python3"
  },
  "language_info": {
   "codemirror_mode": {
    "name": "ipython",
    "version": 3
   },
   "file_extension": ".py",
   "mimetype": "text/x-python",
   "name": "python",
   "nbconvert_exporter": "python",
   "pygments_lexer": "ipython3",
   "version": "3.9.12"
  }
 },
 "nbformat": 4,
 "nbformat_minor": 5
}
