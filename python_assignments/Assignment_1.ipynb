{
 "cells": [
  {
   "cell_type": "markdown",
   "id": "62d5d140-5175-4ce7-b54d-bacd66d75007",
   "metadata": {},
   "source": [
    "1. In the below elements which of them are values or an expression? eg:- values can be\n",
    "integer or string and expressions will be mathematical operators.\n",
    "\n",
    "Ans:\\\n",
    "\n",
    "'* -> expression\\\n",
    "'hello' -> values\\\n",
    "-87.8 -> values\\\n",
    "'- is a expression\\\n",
    "/ -> expression\\\n",
    "'+ -> expression\\\n",
    " 6 -> values\\"
   ]
  },
  {
   "cell_type": "markdown",
   "id": "1fc94099-a257-4bdb-b7fb-c5405cfd35b7",
   "metadata": {},
   "source": [
    "2. What is the difference between string and variable?\n",
    "\n",
    "Ans:\\\n",
    "String is a datatype which refer to string values like character/sequence of characters which enclosed with in '/\"\\\n",
    "variable is a name provided to a memory location to store values"
   ]
  },
  {
   "cell_type": "markdown",
   "id": "7e38d318-5f9d-4c16-bfd5-cc3f621f27a4",
   "metadata": {},
   "source": [
    "3. Describe three different data types.\n",
    "\n",
    "Ans:\\\n",
    "a. int\\\n",
    "    - int datatype are used to refer integer values like 10,1,..\\\n",
    "b. string\\\n",
    "    - string datatype are used to refer characters or a sequesnce of charaters that are enclosed withing '/\"\\\n",
    "c. bool\\\n",
    "    - Bool datatype is used to refer the boolean values sucha as True/False\\"
   ]
  },
  {
   "cell_type": "markdown",
   "id": "14870cc2-c3c1-4034-aaa9-386a9d1a1e2f",
   "metadata": {},
   "source": [
    "4. What is an expression made up of? What do all expressions do?\n",
    "\n",
    "Ans:\n",
    "- Expression is a statement which can be evaluated to return a value,\n",
    "- Expression consists of values from any datatype and different types of operators like arithmethic(+,-,/,*), relation\\ operators(==,!=,>=>,<,<=), logical operators(and, or not)"
   ]
  },
  {
   "cell_type": "markdown",
   "id": "1c78646c-430f-4dc4-b190-2afec18354c0",
   "metadata": {},
   "source": [
    "5. This assignment statements, like spam = 10. What is the difference between an\n",
    "expression and a statement?\n",
    "\n",
    "Ans:\\\n",
    "statement is just an instruction that can be executed by python interpreter\\\n",
    "example: a = 10\\\n",
    "expression is a statement which can be evaluated to return a value\\\n",
    "example: a = 10 + 20"
   ]
  },
  {
   "cell_type": "markdown",
   "id": "a67039cd-b4b2-486b-b49a-e34a4e402a15",
   "metadata": {},
   "source": [
    "6. After running the following code, what does the variable bacon contain?\n",
    "bacon = 22\n",
    "bacon + 1\n",
    "\n",
    "Ans:\n",
    "22"
   ]
  },
  {
   "cell_type": "markdown",
   "id": "89369a23-24bf-46b3-b102-665b700cabdb",
   "metadata": {},
   "source": [
    "7. What should the values of the following two terms be?\\\n",
    "'spam' + 'spamspam'\\\n",
    "'spam'*3\n",
    "\n",
    "Ans:\\\n",
    "Both expression will provide same output = 'spamspamspam'"
   ]
  },
  {
   "cell_type": "markdown",
   "id": "ba1f7456-4c5f-4f93-b27a-a0b66fa47e89",
   "metadata": {},
   "source": [
    "8. Why is eggs a valid variable name while 100 is invalid?\n",
    "\n",
    "Ans:\\\n",
    "egg is a valid name since it follow the variable name rule that the variable name must start with a alphabet/_ but 100 is not a variable name since the name of the variable name starts with a digit 1(100)"
   ]
  },
  {
   "cell_type": "markdown",
   "id": "41ea7c0e-7562-4fa7-bb91-342e0cc855c4",
   "metadata": {},
   "source": [
    "9. What three functions can be used to get the integer, floating-point number, or string\n",
    "version of a value?\\\n",
    "\n",
    "Ans:\n",
    "- int() to get the integer version of value\n",
    "- float() to get the floating version of value\n",
    "- str() to get the string version of value"
   ]
  },
  {
   "cell_type": "markdown",
   "id": "5d17e525-a93e-4c93-adfb-3220e045d79f",
   "metadata": {},
   "source": [
    "10. Why does this expression cause an error? How can you fix it?\n",
    "'I have eaten' + 99 + 'burritos.'\n",
    "\n",
    "Ans:\\\n",
    "Python is strongly typed programming language, as it does perform typecast implicitly,\n",
    "here we are trying to concatenate string with integer value 99 which is not possible so we get TypeError"
   ]
  }
 ],
 "metadata": {
  "kernelspec": {
   "display_name": "Python 3 (ipykernel)",
   "language": "python",
   "name": "python3"
  },
  "language_info": {
   "codemirror_mode": {
    "name": "ipython",
    "version": 3
   },
   "file_extension": ".py",
   "mimetype": "text/x-python",
   "name": "python",
   "nbconvert_exporter": "python",
   "pygments_lexer": "ipython3",
   "version": "3.9.12"
  }
 },
 "nbformat": 4,
 "nbformat_minor": 5
}
